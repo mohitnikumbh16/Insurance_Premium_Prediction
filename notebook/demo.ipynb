{
 "cells": [
  {
   "cell_type": "code",
   "execution_count": 1,
   "metadata": {},
   "outputs": [],
   "source": [
    "from premium.util.util import read_yaml_file\n",
    "import pandas as pd"
   ]
  },
  {
   "cell_type": "code",
   "execution_count": 3,
   "metadata": {},
   "outputs": [],
   "source": [
    "dict = read_yaml_file(file_path = r'D:\\Insurance_Premium_Prediction\\config\\schema.yaml')['columns']\n",
    "            \n",
    "schema_file_columns = []\n",
    "for key in dict.keys():\n",
    "    schema_file_columns.append(key)"
   ]
  },
  {
   "cell_type": "code",
   "execution_count": 4,
   "metadata": {},
   "outputs": [
    {
     "data": {
      "text/plain": [
       "['age', 'bmi', 'children', 'expenses', 'region', 'sex', 'smoker']"
      ]
     },
     "execution_count": 4,
     "metadata": {},
     "output_type": "execute_result"
    }
   ],
   "source": [
    "sorted(schema_file_columns)"
   ]
  },
  {
   "cell_type": "code",
   "execution_count": 5,
   "metadata": {},
   "outputs": [],
   "source": [
    "sex_categorical_col_value = sorted(read_yaml_file(file_path = r'D:\\Insurance_Premium_Prediction\\config\\schema.yaml')['domain_value'])"
   ]
  },
  {
   "cell_type": "code",
   "execution_count": 6,
   "metadata": {},
   "outputs": [
    {
     "data": {
      "text/plain": [
       "['region', 'sex', 'smoker']"
      ]
     },
     "execution_count": 6,
     "metadata": {},
     "output_type": "execute_result"
    }
   ],
   "source": [
    "sex_categorical_col_value"
   ]
  },
  {
   "cell_type": "code",
   "execution_count": 8,
   "metadata": {},
   "outputs": [],
   "source": [
    "train_df = pd.read_csv(r\"D:\\Insurance_Premium_Prediction\\premium\\artifact\\data_ingestion\\2022-08-24-20-12-07\\ingested_data\\train\\insurance.csv\")\n",
    "test_df = pd.read_csv(r\"D:\\Insurance_Premium_Prediction\\premium\\artifact\\data_ingestion\\2022-08-24-20-12-07\\ingested_data\\test\\insurance.csv\")"
   ]
  },
  {
   "cell_type": "code",
   "execution_count": 9,
   "metadata": {},
   "outputs": [
    {
     "data": {
      "text/plain": [
       "['female', 'male']"
      ]
     },
     "execution_count": 9,
     "metadata": {},
     "output_type": "execute_result"
    }
   ],
   "source": [
    "sex_val_train_df = sorted(train_df[\"sex\"].unique())\n",
    "sex_val_train_df"
   ]
  },
  {
   "cell_type": "code",
   "execution_count": null,
   "metadata": {},
   "outputs": [],
   "source": []
  }
 ],
 "metadata": {
  "kernelspec": {
   "display_name": "Python 3.7.0 (conda)",
   "language": "python",
   "name": "python3"
  },
  "language_info": {
   "codemirror_mode": {
    "name": "ipython",
    "version": 3
   },
   "file_extension": ".py",
   "mimetype": "text/x-python",
   "name": "python",
   "nbconvert_exporter": "python",
   "pygments_lexer": "ipython3",
   "version": "3.7.0"
  },
  "orig_nbformat": 4,
  "vscode": {
   "interpreter": {
    "hash": "d63e103a097da42c1aa6bbe90b939d2cbd95d8a327245de686e069ba6a6554b1"
   }
  }
 },
 "nbformat": 4,
 "nbformat_minor": 2
}
